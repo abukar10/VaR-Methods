{
 "cells": [
  {
   "cell_type": "markdown",
   "id": "77939e02",
   "metadata": {},
   "source": [
    "# Value at Risk"
   ]
  },
  {
   "cell_type": "code",
   "execution_count": 30,
   "id": "4dcce28e",
   "metadata": {},
   "outputs": [
    {
     "data": {
      "text/plain": [
       "1.6448536269514722"
      ]
     },
     "execution_count": 30,
     "metadata": {},
     "output_type": "execute_result"
    }
   ],
   "source": [
    "import numpy as np\n",
    "import scipy.stats\n",
    "\n",
    "#test scipy.stats\n",
    "\n",
    "scipy.stats.norm.ppf(0.95)"
   ]
  },
  {
   "cell_type": "code",
   "execution_count": 31,
   "id": "74ec59d5",
   "metadata": {},
   "outputs": [],
   "source": [
    "def VaR(position, sigma, quantile):\n",
    "    return position*sigma*scipy.stats.norm.ppf(quantile)\n"
   ]
  },
  {
   "cell_type": "code",
   "execution_count": 32,
   "id": "d11862e8",
   "metadata": {},
   "outputs": [
    {
     "data": {
      "text/plain": [
       "82.24268134757361"
      ]
     },
     "execution_count": 32,
     "metadata": {},
     "output_type": "execute_result"
    }
   ],
   "source": [
    "VaR(1000,0.05,0.95)"
   ]
  },
  {
   "attachments": {
    "portVariance.gif": {
     "image/gif": "[encoded data removed]"
    }
   },
   "cell_type": "markdown",
   "id": "2802fd2e",
   "metadata": {},
   "source": [
    "![portVariance.gif](attachment:portVariance.gif)\n"
   ]
  },
  {
   "cell_type": "code",
   "execution_count": 54,
   "id": "a4b73834",
   "metadata": {},
   "outputs": [
    {
     "name": "stdout",
     "output_type": "stream",
     "text": [
      "PortVolatility =  0.043243496620879306\n",
      "Value at Risk (VAR) =  71.12922225891705\n"
     ]
    }
   ],
   "source": [
    "w1 = 0.5\n",
    "w2 = 0.5\n",
    "sigma1 = 0.07\n",
    "sigma2 = 0.03\n",
    "corr = 0.4\n",
    "\n",
    "portfolioVar = w1**2*sigma1**2+w2**2*sigma2**2+2*(w1*w2*sigma1*sigma2*corr)\n",
    "\n",
    "portfolioVol = portfolioVar**(1/2)\n",
    "print('PortVolatility = ', portfolioVol)\n",
    "print('Value at Risk (VAR) = ', VaR(1000,portfolioVol,0.95))"
   ]
  },
  {
   "cell_type": "markdown",
   "id": "990eb6fe",
   "metadata": {},
   "source": [
    "# VaR Algebratic approach"
   ]
  },
  {
   "cell_type": "code",
   "execution_count": 49,
   "id": "12ae18f7",
   "metadata": {},
   "outputs": [
    {
     "data": {
      "text/plain": [
       "array([57.56987694, 24.6728044 ])"
      ]
     },
     "execution_count": 49,
     "metadata": {},
     "output_type": "execute_result"
    }
   ],
   "source": [
    "VaR1 = VaR(1000*w1,sigma1,0.95)\n",
    "VaR2 = VaR(1000*w2,sigma2,0.95)\n",
    "vector = np.array([VaR1,VaR2])\n",
    "vector\n"
   ]
  },
  {
   "cell_type": "code",
   "execution_count": 51,
   "id": "9b1740f0",
   "metadata": {},
   "outputs": [
    {
     "data": {
      "text/plain": [
       "array([[1. , 0.4],\n",
       "       [0.4, 1. ]])"
      ]
     },
     "execution_count": 51,
     "metadata": {},
     "output_type": "execute_result"
    }
   ],
   "source": [
    "corrmatrix = np.array([[1,corr],[corr,1]])\n",
    "corrmatrix"
   ]
  },
  {
   "cell_type": "code",
   "execution_count": 53,
   "id": "98ea906e",
   "metadata": {},
   "outputs": [
    {
     "data": {
      "text/plain": [
       "71.12922225891707"
      ]
     },
     "execution_count": 53,
     "metadata": {},
     "output_type": "execute_result"
    }
   ],
   "source": [
    "(np.dot(np.dot(vector, corrmatrix),vector))**(1/2)"
   ]
  },
  {
   "cell_type": "markdown",
   "id": "d61f8aee",
   "metadata": {},
   "source": [
    "# VaR using using actual data"
   ]
  },
  {
   "cell_type": "code",
   "execution_count": 4,
   "id": "2cc7a4e8",
   "metadata": {},
   "outputs": [
    {
     "data": {
      "text/html": [
       "<div>\n",
       "<style scoped>\n",
       "    .dataframe tbody tr th:only-of-type {\n",
       "        vertical-align: middle;\n",
       "    }\n",
       "\n",
       "    .dataframe tbody tr th {\n",
       "        vertical-align: top;\n",
       "    }\n",
       "\n",
       "    .dataframe thead th {\n",
       "        text-align: right;\n",
       "    }\n",
       "</style>\n",
       "<table border=\"1\" class=\"dataframe\">\n",
       "  <thead>\n",
       "    <tr style=\"text-align: right;\">\n",
       "      <th>Symbols</th>\n",
       "      <th>AAPL</th>\n",
       "      <th>MSFT</th>\n",
       "      <th>TSLA</th>\n",
       "    </tr>\n",
       "    <tr>\n",
       "      <th>Date</th>\n",
       "      <th></th>\n",
       "      <th></th>\n",
       "      <th></th>\n",
       "    </tr>\n",
       "  </thead>\n",
       "  <tbody>\n",
       "    <tr>\n",
       "      <th>2021-03-03</th>\n",
       "      <td>NaN</td>\n",
       "      <td>NaN</td>\n",
       "      <td>NaN</td>\n",
       "    </tr>\n",
       "    <tr>\n",
       "      <th>2021-03-04</th>\n",
       "      <td>-0.015938</td>\n",
       "      <td>-0.003654</td>\n",
       "      <td>-0.049844</td>\n",
       "    </tr>\n",
       "    <tr>\n",
       "      <th>2021-03-05</th>\n",
       "      <td>0.010681</td>\n",
       "      <td>0.021252</td>\n",
       "      <td>-0.038532</td>\n",
       "    </tr>\n",
       "    <tr>\n",
       "      <th>2021-03-08</th>\n",
       "      <td>-0.042567</td>\n",
       "      <td>-0.018345</td>\n",
       "      <td>-0.060228</td>\n",
       "    </tr>\n",
       "    <tr>\n",
       "      <th>2021-03-09</th>\n",
       "      <td>0.039845</td>\n",
       "      <td>0.027714</td>\n",
       "      <td>0.179327</td>\n",
       "    </tr>\n",
       "    <tr>\n",
       "      <th>...</th>\n",
       "      <td>...</td>\n",
       "      <td>...</td>\n",
       "      <td>...</td>\n",
       "    </tr>\n",
       "    <tr>\n",
       "      <th>2022-02-25</th>\n",
       "      <td>0.012882</td>\n",
       "      <td>0.009191</td>\n",
       "      <td>0.011300</td>\n",
       "    </tr>\n",
       "    <tr>\n",
       "      <th>2022-02-28</th>\n",
       "      <td>0.001636</td>\n",
       "      <td>0.004966</td>\n",
       "      <td>0.072114</td>\n",
       "    </tr>\n",
       "    <tr>\n",
       "      <th>2022-03-01</th>\n",
       "      <td>-0.011696</td>\n",
       "      <td>-0.012935</td>\n",
       "      <td>-0.006986</td>\n",
       "    </tr>\n",
       "    <tr>\n",
       "      <th>2022-03-02</th>\n",
       "      <td>0.020379</td>\n",
       "      <td>0.017610</td>\n",
       "      <td>0.017796</td>\n",
       "    </tr>\n",
       "    <tr>\n",
       "      <th>2022-03-03</th>\n",
       "      <td>0.006940</td>\n",
       "      <td>0.002412</td>\n",
       "      <td>-0.016108</td>\n",
       "    </tr>\n",
       "  </tbody>\n",
       "</table>\n",
       "<p>254 rows × 3 columns</p>\n",
       "</div>"
      ],
      "text/plain": [
       "Symbols         AAPL      MSFT      TSLA\n",
       "Date                                    \n",
       "2021-03-03       NaN       NaN       NaN\n",
       "2021-03-04 -0.015938 -0.003654 -0.049844\n",
       "2021-03-05  0.010681  0.021252 -0.038532\n",
       "2021-03-08 -0.042567 -0.018345 -0.060228\n",
       "2021-03-09  0.039845  0.027714  0.179327\n",
       "...              ...       ...       ...\n",
       "2022-02-25  0.012882  0.009191  0.011300\n",
       "2022-02-28  0.001636  0.004966  0.072114\n",
       "2022-03-01 -0.011696 -0.012935 -0.006986\n",
       "2022-03-02  0.020379  0.017610  0.017796\n",
       "2022-03-03  0.006940  0.002412 -0.016108\n",
       "\n",
       "[254 rows x 3 columns]"
      ]
     },
     "execution_count": 4,
     "metadata": {},
     "output_type": "execute_result"
    }
   ],
   "source": [
    "#pip install pandas_datareader\n",
    "import numpy as np\n",
    "import pandas_datareader.data as reader\n",
    "import datetime as dt\n",
    "\n",
    "end = dt.datetime.now()\n",
    "start = dt.datetime(end.year-1, end.month, end.day)\n",
    "\n",
    "df = reader.get_data_yahoo(['AAPL','MSFT','TSLA'],start,end)['Adj Close']\n",
    "\n",
    "returns = np.log(1+ df.pct_change())\n",
    "\n",
    "returns\n"
   ]
  },
  {
   "cell_type": "code",
   "execution_count": 24,
   "id": "c2971dbe",
   "metadata": {},
   "outputs": [
    {
     "data": {
      "text/plain": [
       "Symbols\n",
       "AAPL    0.015191\n",
       "MSFT    0.014232\n",
       "TSLA    0.035410\n",
       "dtype: float64"
      ]
     },
     "execution_count": 24,
     "metadata": {},
     "output_type": "execute_result"
    }
   ],
   "source": [
    "returns.std()"
   ]
  },
  {
   "cell_type": "code",
   "execution_count": 7,
   "id": "bda7eb11",
   "metadata": {},
   "outputs": [
    {
     "data": {
      "text/plain": [
       "Symbols\n",
       "AAPL    167.720001\n",
       "MSFT    300.915009\n",
       "TSLA    865.830017\n",
       "Name: 2022-03-03 00:00:00, dtype: float64"
      ]
     },
     "execution_count": 7,
     "metadata": {},
     "output_type": "execute_result"
    }
   ],
   "source": [
    "position = df.iloc[-1]\n",
    "position"
   ]
  },
  {
   "cell_type": "code",
   "execution_count": 26,
   "id": "47ecefa7",
   "metadata": {},
   "outputs": [
    {
     "data": {
      "text/plain": [
       "[4.190883689935422, 7.044052887185362, 50.42959328750968]"
      ]
     },
     "execution_count": 26,
     "metadata": {},
     "output_type": "execute_result"
    }
   ],
   "source": [
    "VaRarray = []\n",
    "for i in range(len(position)):\n",
    "    VaRarray.append(VaR(position[i],returns.std()[i],0.95))\n",
    "    \n",
    "VaRarray"
   ]
  },
  {
   "cell_type": "code",
   "execution_count": 27,
   "id": "8ed6535a",
   "metadata": {},
   "outputs": [],
   "source": [
    "vector = np.array(VaRarray)"
   ]
  },
  {
   "cell_type": "code",
   "execution_count": 28,
   "id": "034df1f1",
   "metadata": {},
   "outputs": [
    {
     "data": {
      "text/html": [
       "<div>\n",
       "<style scoped>\n",
       "    .dataframe tbody tr th:only-of-type {\n",
       "        vertical-align: middle;\n",
       "    }\n",
       "\n",
       "    .dataframe tbody tr th {\n",
       "        vertical-align: top;\n",
       "    }\n",
       "\n",
       "    .dataframe thead th {\n",
       "        text-align: right;\n",
       "    }\n",
       "</style>\n",
       "<table border=\"1\" class=\"dataframe\">\n",
       "  <thead>\n",
       "    <tr style=\"text-align: right;\">\n",
       "      <th>Symbols</th>\n",
       "      <th>AAPL</th>\n",
       "      <th>MSFT</th>\n",
       "      <th>TSLA</th>\n",
       "    </tr>\n",
       "    <tr>\n",
       "      <th>Symbols</th>\n",
       "      <th></th>\n",
       "      <th></th>\n",
       "      <th></th>\n",
       "    </tr>\n",
       "  </thead>\n",
       "  <tbody>\n",
       "    <tr>\n",
       "      <th>AAPL</th>\n",
       "      <td>1.000000</td>\n",
       "      <td>0.699588</td>\n",
       "      <td>0.458268</td>\n",
       "    </tr>\n",
       "    <tr>\n",
       "      <th>MSFT</th>\n",
       "      <td>0.699588</td>\n",
       "      <td>1.000000</td>\n",
       "      <td>0.413661</td>\n",
       "    </tr>\n",
       "    <tr>\n",
       "      <th>TSLA</th>\n",
       "      <td>0.458268</td>\n",
       "      <td>0.413661</td>\n",
       "      <td>1.000000</td>\n",
       "    </tr>\n",
       "  </tbody>\n",
       "</table>\n",
       "</div>"
      ],
      "text/plain": [
       "Symbols      AAPL      MSFT      TSLA\n",
       "Symbols                              \n",
       "AAPL     1.000000  0.699588  0.458268\n",
       "MSFT     0.699588  1.000000  0.413661\n",
       "TSLA     0.458268  0.413661  1.000000"
      ]
     },
     "execution_count": 28,
     "metadata": {},
     "output_type": "execute_result"
    }
   ],
   "source": [
    "returns.corr()"
   ]
  },
  {
   "cell_type": "code",
   "execution_count": 45,
   "id": "bd335018",
   "metadata": {},
   "outputs": [
    {
     "name": "stdout",
     "output_type": "stream",
     "text": [
      "Value at Risk =  56.02877668647499\n"
     ]
    }
   ],
   "source": [
    "Value_at_Risk = (np.dot(np.dot(vector, returns.corr()),vector))**(1/2)\n",
    "print('Value at Risk = ', Value_at_Risk)"
   ]
  },
  {
   "cell_type": "code",
   "execution_count": null,
   "id": "209b107b",
   "metadata": {},
   "outputs": [],
   "source": []
  }
 ],
 "metadata": {
  "kernelspec": {
   "display_name": "Python 3 (ipykernel)",
   "language": "python",
   "name": "python3"
  },
  "language_info": {
   "codemirror_mode": {
    "name": "ipython",
    "version": 3
   },
   "file_extension": ".py",
   "mimetype": "text/x-python",
   "name": "python",
   "nbconvert_exporter": "python",
   "pygments_lexer": "ipython3",
   "version": "3.9.7"
  }
 },
 "nbformat": 4,
 "nbformat_minor": 5
}
